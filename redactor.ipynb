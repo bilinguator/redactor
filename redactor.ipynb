{
 "cells": [
  {
   "cell_type": "markdown",
   "id": "38b55078",
   "metadata": {},
   "source": [
    "# <span id=\"up\" style=\"color:red\">RED</span>ACTOR\n",
    "\n",
    "**<span id=\"up\" style=\"color:red\">RED</span>ACTOR is a cozy Juputer Notebook created by [Bilinguator.com](https://bilinguator.com/) to make texts cleaner. It may help to place quotation marks, parentheses, dashes, ellipses in the desired format, remove unnecessary line breaks or page numbers, find and tag titles and character names. For more information, visit [Github page](https://github.com/bilinguator/redactor/).**"
   ]
  },
  {
   "cell_type": "markdown",
   "id": "76cdce5a",
   "metadata": {},
   "source": [
    "|Contents|\n",
    "|---|\n",
    "|[Load modules and scripts](#load-modules-and-scripts)|\n",
    "|[Load text from file](#load-text-from-file)|\n",
    "|[Technical artifacts](#technical-artifacts)|\n",
    "|[Alphabet](#alphabet)|\n",
    "|[Repetitions](#repetitions)|\n",
    "|[Search for substrings](#search-for-substrings)|\n",
    "|[Ellipsis](#ellipsis)|\n",
    "|[Apostrophes](#apostrophes)|\n",
    "|[Quotes and brackets](#quotes-and-brackets)|\n",
    "|[Headings](#headings)|\n",
    "|[Dashes](#dashes)|\n",
    "|[Characters in the play](#characters-in-the-play)|\n",
    "|[Dot the ⟨Ё⟩ letters in Russian](#dot-the-yo)|\n",
    "|[Save text](#save-text)|"
   ]
  },
  {
   "cell_type": "markdown",
   "id": "99bb3958",
   "metadata": {},
   "source": [
    "# <span id='load-modules-and-scripts'>Load modules and scripts</span>\n",
    "\n",
    "[Up](#up) | [Save text](#save-text)"
   ]
  },
  {
   "cell_type": "code",
   "execution_count": null,
   "id": "ab767bb4",
   "metadata": {},
   "outputs": [],
   "source": [
    "import os\n",
    "import sys\n",
    "import math\n",
    "import html\n",
    "import re\n",
    "from tqdm import tqdm\n",
    "from alphabets import *\n",
    "from paragraphs import *\n",
    "from quotes_and_brackets import *\n",
    "from redactor import *"
   ]
  },
  {
   "cell_type": "markdown",
   "id": "bc17904e",
   "metadata": {},
   "source": [
    "# <span id='load-text-from-file'>Load text from file</span>\n",
    "\n",
    "[Up](#up) | [Save text](#save-text)\n",
    "\n",
    "**`lang` - ISO code of the language. Codes are available in `get_alphabet` function of the `alphabets.py` script.**\n",
    "\n",
    "**`file_address` - TXT file to be preprocessed.**\n",
    "\n",
    "**All repeated `\\n` are replace by one `\\n` here.**"
   ]
  },
  {
   "cell_type": "code",
   "execution_count": null,
   "id": "d7f7fb3d",
   "metadata": {},
   "outputs": [],
   "source": [
    "lang = 'en'\n",
    "file_address = 'path/to/text'\n",
    "\n",
    "file = open(file_address, 'r', encoding='utf-8')\n",
    "text = file.read().strip()\n",
    "file.close()\n",
    "text = '\\n'.join(re.split('\\n+', text))\n",
    "assert text != '', f'File {file_address} is empty!'\n",
    "print(f'File \\033[1m{file_address}\\033[0m contains:')\n",
    "print(f'• {len(text)} symbols;')\n",
    "print('•', len(text.split('\\n')), 'paragraphs.')"
   ]
  },
  {
   "cell_type": "markdown",
   "id": "05e72dd5",
   "metadata": {},
   "source": [
    "**Convert special HTML characters to the readable Unicode characters.**"
   ]
  },
  {
   "cell_type": "code",
   "execution_count": null,
   "id": "638727fa",
   "metadata": {},
   "outputs": [],
   "source": [
    "text = html.unescape(text)"
   ]
  },
  {
   "cell_type": "markdown",
   "id": "7427528f",
   "metadata": {},
   "source": [
    "# <span id='technical-artifacts'>Technical artifacts</span>\n",
    "\n",
    "[Up](#up) | [Save text](#save-text)\n",
    "\n",
    "**Remove technical line breaks. By technical line breaks, we mean the breaks formed in the process of translating text from one file extension to another. So, when saving a TXT file from PDF, there are many line breaks in the middle of sentences. The `remove_tech_line_breaks` function removes such breaks and returns a repaired text.**"
   ]
  },
  {
   "cell_type": "code",
   "execution_count": null,
   "id": "9e5b0c49",
   "metadata": {},
   "outputs": [],
   "source": [
    "print(len(text.split('\\n')), 'paragraphs before removing technical line breaks.')\n",
    "text = remove_tech_line_breaks(text, line_ends=get_quotes() | set('.!?;-–—‒'))\n",
    "print(len(text.split('\\n')), 'paragraphs after removing technical line breaks.')"
   ]
  },
  {
   "cell_type": "markdown",
   "id": "23de5310",
   "metadata": {},
   "source": [
    "**Detect paragraphs with page numbers.**"
   ]
  },
  {
   "cell_type": "code",
   "execution_count": null,
   "id": "be43ead9",
   "metadata": {},
   "outputs": [],
   "source": [
    "page_number_paragraphs = detect_chapters(text, chapter='', numbering='arabic')\n",
    "print('Paragraphs with page numbers:', page_number_paragraphs)"
   ]
  },
  {
   "cell_type": "markdown",
   "id": "dfe3538e",
   "metadata": {},
   "source": [
    "**Remove paragraphs with page numbers.**"
   ]
  },
  {
   "cell_type": "code",
   "execution_count": null,
   "id": "34e9f070",
   "metadata": {},
   "outputs": [],
   "source": [
    "text = remove_paragraphs(text, page_number_paragraphs)"
   ]
  },
  {
   "cell_type": "markdown",
   "id": "77c6a4be",
   "metadata": {},
   "source": [
    "**Detect page headings and other repeating paragraphs.**"
   ]
  },
  {
   "cell_type": "code",
   "execution_count": null,
   "id": "0c7aa54f",
   "metadata": {
    "scrolled": true
   },
   "outputs": [],
   "source": [
    "repeated_paragraphs = count_repeated_paragraphs(text)\n",
    "\n",
    "if bool(repeated_paragraphs):\n",
    "    print('Repeating paragraphs\\n(times)')\n",
    "    for key, value in repeated_paragraphs.items():\n",
    "        print(f'\\n{key}\\n({value})')\n",
    "else:\n",
    "    print('No repeating paragraphs found.')"
   ]
  },
  {
   "cell_type": "markdown",
   "id": "cee9bc87",
   "metadata": {},
   "source": [
    "**Specify repeating paragraph to be removed in the `paragraph_to_remove` variable.**"
   ]
  },
  {
   "cell_type": "code",
   "execution_count": null,
   "id": "42f51587",
   "metadata": {},
   "outputs": [],
   "source": [
    "paragraph_to_remove = 'Спасибо, что скачали книгу в бесплатной электронной библиотеке Royallib.ru'\n",
    "\n",
    "text = re.split(rf'{paragraph_to_remove}$', text, flags=re.MULTILINE)\n",
    "text = [c.strip() for c in text]\n",
    "text = '\\n'.join(text)"
   ]
  },
  {
   "cell_type": "markdown",
   "id": "61beee8a",
   "metadata": {},
   "source": [
    "**Find footnote links like `{1}`, `[1]`, `(1)`, etc.**"
   ]
  },
  {
   "cell_type": "code",
   "execution_count": null,
   "id": "22fea1c3",
   "metadata": {},
   "outputs": [],
   "source": [
    "footnote_regex = '{\\d+}|\\[\\d+\\]|\\(\\d+\\)'\n",
    "footnote_links = set(re.findall(footnote_regex, text))\n",
    "if bool(footnote_links):\n",
    "    print(*footnote_links)\n",
    "else:\n",
    "    print('No footnote links found.')"
   ]
  },
  {
   "cell_type": "markdown",
   "id": "07b1a245",
   "metadata": {},
   "source": [
    "**Remove footnote links.**"
   ]
  },
  {
   "cell_type": "code",
   "execution_count": null,
   "id": "41be4534",
   "metadata": {},
   "outputs": [],
   "source": [
    "text = ''.join(re.split(footnote_regex, text))"
   ]
  },
  {
   "cell_type": "markdown",
   "id": "7a263192",
   "metadata": {},
   "source": [
    "# <span id='alphabet'>Alphabet</span>\n",
    "\n",
    "[Up](#up) | [Save text](#save-text)\n",
    "\n",
    "**Check text’s alphabet.**"
   ]
  },
  {
   "cell_type": "code",
   "execution_count": null,
   "id": "c6b52303",
   "metadata": {
    "scrolled": true
   },
   "outputs": [],
   "source": [
    "text_characters = set(text.upper()) - set([' ', '\\n'])\n",
    "print('Unique characters of the text:')\n",
    "print(set_to_str(text_characters))\n",
    "print()\n",
    "print(f'Characters of the text subtracted by the \\033[1m{lang}\\033[0m alphabet:')\n",
    "print(set_to_str(text_characters - get_alphabet(lang)))\n",
    "print()\n",
    "print(f'\\033[1m{lang}\\033[0m alphabet:')\n",
    "print(set_to_str(get_alphabet(lang)))\n",
    "print()\n",
    "print(f'Unused characters of the \\033[1m{lang}\\033[0m alphabet:')\n",
    "print(set_to_str(get_alphabet(lang) - text_characters))"
   ]
  },
  {
   "cell_type": "markdown",
   "id": "03d9360d",
   "metadata": {},
   "source": [
    "# <span id='repetitions'>Repetitions</span>\n",
    "\n",
    "[Up](#up) | [Save text](#save-text)\n",
    "\n",
    "**Find characters repetitions in the text.**"
   ]
  },
  {
   "cell_type": "code",
   "execution_count": null,
   "id": "250b38bd",
   "metadata": {},
   "outputs": [],
   "source": [
    "print('Characters’ repetitions in the text:')\n",
    "text_characters_all = set(text.upper())\n",
    "text_upper = text.upper()\n",
    "for c in text_characters_all:\n",
    "    count = text_upper.count(c*2)\n",
    "    if count > 0:\n",
    "        print(f'{c*2} - {count}')"
   ]
  },
  {
   "cell_type": "markdown",
   "id": "bd7a4505",
   "metadata": {},
   "source": [
    "**Specify repetition in the `query` variable and explore it in the text. If `query`’s case matters, specify it in the `case_matters` attribute of the `print_paragraphs_by_query` function.**"
   ]
  },
  {
   "cell_type": "code",
   "execution_count": null,
   "id": "dd65ef25",
   "metadata": {},
   "outputs": [],
   "source": [
    "query = '--'\n",
    "print_paragraphs_by_query(text, query, case_matters=False)"
   ]
  },
  {
   "cell_type": "markdown",
   "id": "81b20fb5",
   "metadata": {},
   "source": [
    "# <span id='search-for-substrings'>Search for substrings</span>\n",
    "\n",
    "[Up](#up) | [Save text](#save-text)\n",
    "\n",
    "**Type a wanted character to `query` variable and count how many hits are found in particular paragraphs. If `query`’s case matters, specify it in the `case_matters` attribute of the `print_paragraphs_by_query` function.**"
   ]
  },
  {
   "cell_type": "code",
   "execution_count": null,
   "id": "c63fa8c0",
   "metadata": {
    "scrolled": true
   },
   "outputs": [],
   "source": [
    "query = '-'\n",
    "search_in_paragraphs(text, query, case_matters=False)"
   ]
  },
  {
   "cell_type": "markdown",
   "id": "ceb371e7",
   "metadata": {},
   "source": [
    "**Print paragraphs with the `query`. If `query`’s case matters, specify it in the `case_matters` attribute of the `print_paragraphs_by_query` function.**"
   ]
  },
  {
   "cell_type": "code",
   "execution_count": null,
   "id": "b11e6e85",
   "metadata": {},
   "outputs": [],
   "source": [
    "query = '('\n",
    "print_paragraphs_by_query(text, query, case_matters=False)"
   ]
  },
  {
   "cell_type": "markdown",
   "id": "772b267b",
   "metadata": {},
   "source": [
    "# <span id='ellipsis'>Ellipsis</span>\n",
    "\n",
    "[Up](#up) | [Save text](#save-text)\n",
    "\n",
    "**Replace three dots to ellipsis signs. Explore the three dots separated by spaces `. . .` (common for English and other texts) and regular `...`.**"
   ]
  },
  {
   "cell_type": "code",
   "execution_count": null,
   "id": "d517947c",
   "metadata": {},
   "outputs": [],
   "source": [
    "print_paragraphs_by_query(text, '. . .', case_matters=False)"
   ]
  },
  {
   "cell_type": "code",
   "execution_count": null,
   "id": "7179c839",
   "metadata": {},
   "outputs": [],
   "source": [
    "print_paragraphs_by_query(text, '...', case_matters=False)"
   ]
  },
  {
   "cell_type": "code",
   "execution_count": null,
   "id": "e16c4208",
   "metadata": {
    "scrolled": true
   },
   "outputs": [],
   "source": [
    "print_paragraphs_by_query(text, '…', case_matters=False)"
   ]
  },
  {
   "cell_type": "markdown",
   "id": "3bf61af0",
   "metadata": {},
   "source": [
    "**Replace to ellipsis sign `…`.**"
   ]
  },
  {
   "cell_type": "markdown",
   "id": "63f8491c",
   "metadata": {},
   "source": [
    "**`. . . .` → `. …`**"
   ]
  },
  {
   "cell_type": "code",
   "execution_count": null,
   "id": "084fdb73",
   "metadata": {},
   "outputs": [],
   "source": [
    "old = '. . . .'\n",
    "new = '. …'\n",
    "print(text.count(old), '- before replacement.')\n",
    "text = text.replace(old, new)\n",
    "print(text.count(old), '- after replacement.')"
   ]
  },
  {
   "cell_type": "markdown",
   "id": "ec3e941a",
   "metadata": {},
   "source": [
    "**`. . .` → `…`**"
   ]
  },
  {
   "cell_type": "code",
   "execution_count": null,
   "id": "da46aa11",
   "metadata": {},
   "outputs": [],
   "source": [
    "old = '. . .'\n",
    "new = '…'\n",
    "print(text.count(old), '- before replacement.')\n",
    "text = text.replace(old, new)\n",
    "print(text.count(old), '- after replacement.')"
   ]
  },
  {
   "cell_type": "markdown",
   "id": "bccc827b",
   "metadata": {},
   "source": [
    "**`...` → `…`**"
   ]
  },
  {
   "cell_type": "code",
   "execution_count": null,
   "id": "eb76807f",
   "metadata": {},
   "outputs": [],
   "source": [
    "old = '...'\n",
    "new = '…'\n",
    "print(text.count(old), '- before replacement.')\n",
    "text = text.replace(old, new)\n",
    "print(text.count(old), '- after replacement.')"
   ]
  },
  {
   "cell_type": "markdown",
   "id": "e98b5d16",
   "metadata": {},
   "source": [
    "# <span id='apostrophes'>Apostrophes</span>\n",
    "\n",
    "[Up](#up) | [Save text](#save-text)\n",
    "\n",
    "**Count all apostrophe characters in the text before recovering.**"
   ]
  },
  {
   "cell_type": "code",
   "execution_count": null,
   "id": "aa7b6770",
   "metadata": {},
   "outputs": [],
   "source": [
    "print(text.count('\\''), '- typewriter apostrophes ⟨\\'⟩.')\n",
    "print(text.count('’'), '- punctuation apostrophes ⟨’⟩.')"
   ]
  },
  {
   "cell_type": "markdown",
   "id": "29ccbb29",
   "metadata": {},
   "source": [
    "**Replace typewriter apostrophe `'` to punctuation apostrophe `’`. To replace all apostrophes located inside words, specify `replace_inner=True`.**"
   ]
  },
  {
   "cell_type": "code",
   "execution_count": null,
   "id": "b524a7f7",
   "metadata": {},
   "outputs": [],
   "source": [
    "text = recover_apostrophes_by_lang(text, lang, replace_inner=False)"
   ]
  },
  {
   "cell_type": "markdown",
   "id": "15af84cc",
   "metadata": {},
   "source": [
    "**Count all apostrophe characters in the text after recovering.**"
   ]
  },
  {
   "cell_type": "code",
   "execution_count": null,
   "id": "b615125d",
   "metadata": {},
   "outputs": [],
   "source": [
    "print(text.count('\\''), '- typewriter apostrophes ⟨\\'⟩.')\n",
    "print(text.count('’'), '- punctuation apostrophes ⟨’⟩.')"
   ]
  },
  {
   "cell_type": "markdown",
   "id": "8135cdee",
   "metadata": {},
   "source": [
    "**Explore the paragraphs with punctuation apostrophes ⟨`’`⟩.**"
   ]
  },
  {
   "cell_type": "code",
   "execution_count": null,
   "id": "90a5d3f8",
   "metadata": {
    "scrolled": true
   },
   "outputs": [],
   "source": [
    "print_paragraphs_by_query(text, '’')"
   ]
  },
  {
   "cell_type": "markdown",
   "id": "4f4cc194",
   "metadata": {},
   "source": [
    "**Explore the paragraphs with typewriter apostrophes ⟨`'`⟩.**"
   ]
  },
  {
   "cell_type": "code",
   "execution_count": null,
   "id": "e51d8af8",
   "metadata": {
    "scrolled": true
   },
   "outputs": [],
   "source": [
    "print_paragraphs_by_query(text, '\\'')"
   ]
  },
  {
   "cell_type": "markdown",
   "id": "9d046b18",
   "metadata": {},
   "source": [
    "**Replace typewriter apostrophes ⟨`'`⟩ with punctuation apostrophes ⟨`’`⟩ in interaction mode. Leave input fields empty if no replacement is needed, otherwise type any characters.**"
   ]
  },
  {
   "cell_type": "code",
   "execution_count": null,
   "id": "dd8dd135",
   "metadata": {},
   "outputs": [],
   "source": [
    "text = replace_interactively(text, '\\'', '’', scope=55)"
   ]
  },
  {
   "cell_type": "code",
   "execution_count": null,
   "id": "c5009b1f",
   "metadata": {},
   "outputs": [],
   "source": [
    "print_paragraphs_by_query(text, '\\'')"
   ]
  },
  {
   "cell_type": "markdown",
   "id": "16ab5858",
   "metadata": {},
   "source": [
    "# <span id='quotes-and-brackets'>Quotes and brackets</span>\n",
    "\n",
    "[Up](#up) | [Save text](#save-text)\n",
    "\n",
    "**What quotation marks are there in the text?**"
   ]
  },
  {
   "cell_type": "code",
   "execution_count": null,
   "id": "563336a5",
   "metadata": {
    "scrolled": true
   },
   "outputs": [],
   "source": [
    "text_characters = set(text.upper()) - set([' ', '\\n'])\n",
    "\n",
    "print('Quotation marks found in the text:')\n",
    "text_quotes = set_to_str(text_characters & get_quotes())\n",
    "print(text_quotes)\n",
    "print()\n",
    "\n",
    "print(f'Quotation marks of the \\033[1m{lang}\\033[0m language:')\n",
    "print(quotes_to_str_by_lang(lang))\n",
    "print()\n",
    "\n",
    "print(f'Quotation marks of the \\033[1m{lang}\\033[0m language used in the text:')\n",
    "print(set_to_str(set(text_quotes) & set(quotes_to_str_by_lang(lang))))"
   ]
  },
  {
   "cell_type": "markdown",
   "id": "19c56500",
   "metadata": {},
   "source": [
    "**Choose target quotation marks of the language of interest. Then, replace quotation marks in the interaction mode:**\n",
    "\n",
    "**`old_quote` - attribute for quotation mark (opening or closing) to be replaced;**\n",
    "\n",
    "**`new_quote` - attribute for target quotation mark.**"
   ]
  },
  {
   "cell_type": "code",
   "execution_count": null,
   "id": "68719850",
   "metadata": {},
   "outputs": [],
   "source": [
    "get_quotes(lang)"
   ]
  },
  {
   "cell_type": "code",
   "execution_count": null,
   "id": "105ef8e3",
   "metadata": {},
   "outputs": [],
   "source": [
    "old_quote = '\"'\n",
    "new_quote = '“'\n",
    "text = replace_interactively(text, '\"', '“')"
   ]
  },
  {
   "cell_type": "markdown",
   "id": "782b98df",
   "metadata": {},
   "source": [
    "# <span id='headings'>Headings</span>\n",
    "\n",
    "[Up](#up) | [Save text](#save-text)\n",
    "\n",
    "**Detect paragraphs containing chapters’ headings. Specify arguments in the `detect_chapters` function:**\n",
    "\n",
    "**`chapter` - string containing key word for a chapter, e.g. “Chapter” for English, “Глава” for Russian, “Chapitre” for French, etc.; word case matters here; the space character delimiting the key word from a numeral is the part of this argument;**\n",
    "\n",
    "**`numbering` - string of one of the following variants:**\n",
    "* **`\"arabic\"` for Arabic numbers (1, 2, 3, etc.);**\n",
    "* **`\"roman\"` for the Roman numbers (I, II, III, IV, etc.);**\n",
    "* **`\"ja\"` or `\"zh\"` for Japanese or Chinese numerals (一、二、三、四, etc.);**\n",
    "* **`\"text\"` for non-numeric characters; suitable if numerals in words are presented (‘One’, ‘Two’, ‘Three’, etc.)**\n",
    "\n",
    "**`delimiter` - delimiter among the chapter-numbering and title parts;**\n",
    "\n",
    "**`with_title` - boolean specifying if chapters have titles;**\n",
    "\n",
    "**`numbering_first` - boolean specifying if numbering precedes chapter key word (‘XIX chapter’).**\n",
    "\n",
    "**Example**\n",
    "\n",
    "If the chapters’ headings of your text look like `Chapter MMMCMXCIX — Epilogue`, specify arguments as follows:\n",
    "\n",
    "`chapter = \"Chapter \"`\n",
    "\n",
    "`numbering = \"roman\"`\n",
    "\n",
    "`delimiter = \" — \"`\n",
    "\n",
    "`with_title = True`\n",
    "\n",
    "`numbering_first = False`"
   ]
  },
  {
   "cell_type": "code",
   "execution_count": null,
   "id": "b34ba2df",
   "metadata": {
    "scrolled": true
   },
   "outputs": [],
   "source": [
    "print('Chapters detected:\\n')\n",
    "chapter_paragraphs = detect_chapters(text, chapter='', numbering='roman', delimiter='',\n",
    "                                     with_title=False, numbering_first=True)\n",
    "print('\\nTotal count:', len(chapter_paragraphs))\n",
    "print('Paragraphs set:', chapter_paragraphs, sep='\\n')"
   ]
  },
  {
   "cell_type": "markdown",
   "id": "043f5aa6",
   "metadata": {},
   "source": [
    "**If there are paragraph numbers to be added or removed from the set, specify them in the `added_paragraphs` and `removed_paragraphs` variables respectively.**"
   ]
  },
  {
   "cell_type": "code",
   "execution_count": null,
   "id": "a1339357",
   "metadata": {},
   "outputs": [],
   "source": [
    "added_paragraphs = set([])\n",
    "removed_paragraphs = set([])\n",
    "chapter_paragraphs = (chapter_paragraphs | added_paragraphs) - removed_paragraphs\n",
    "print('Paragraphs set:', *sorted(list(chapter_paragraphs)), sep='\\n')"
   ]
  },
  {
   "cell_type": "markdown",
   "id": "648de6dd",
   "metadata": {},
   "source": [
    "**Enclose the detected chapters’ headings in `<h1></h1>` tags.**"
   ]
  },
  {
   "cell_type": "code",
   "execution_count": null,
   "id": "8f373191",
   "metadata": {},
   "outputs": [],
   "source": [
    "text = tag_paragraphs(text, chapter_paragraphs, tag='h1')"
   ]
  },
  {
   "cell_type": "markdown",
   "id": "fb36c3dc",
   "metadata": {},
   "source": [
    "# <span id='dashes'>Dashes</span>\n",
    "\n",
    "[Up](#up) | [Save text](#save-text)"
   ]
  },
  {
   "cell_type": "markdown",
   "id": "dbf15b71",
   "metadata": {},
   "source": [
    "**`-` — hyphen, part of compound words;**\n",
    "\n",
    "**`–` — en dash, used for number intervals;**\n",
    "\n",
    "**`—` — em dash, a multifunctional punctuation mark for dialogues, thought abruptions, instead of colons and parenthetical marks, etc.**"
   ]
  },
  {
   "cell_type": "markdown",
   "id": "819e6eda",
   "metadata": {},
   "source": [
    "**Detect if there are dialogue paragraphs and what dash they start with.**"
   ]
  },
  {
   "cell_type": "code",
   "execution_count": null,
   "id": "74d45f1d",
   "metadata": {},
   "outputs": [],
   "source": [
    "hyphen = '-'\n",
    "en_dash = '–'\n",
    "em_dash = '—'\n",
    "\n",
    "print(f'Paragraphs starting with hyphen ⟨{hyphen}⟩:')\n",
    "print(search_paragraphs_by_regex(text, f'^{hyphen}.*'))\n",
    "\n",
    "print(f'Paragraphs starting with en dash ⟨{en_dash}⟩:')\n",
    "print(search_paragraphs_by_regex(text, f'^{en_dash}.*'))\n",
    "\n",
    "print(f'Paragraphs starting with em dash ⟨{em_dash}⟩:')\n",
    "print(search_paragraphs_by_regex(text, f'^{em_dash}.*'))"
   ]
  },
  {
   "cell_type": "markdown",
   "id": "3270a182",
   "metadata": {},
   "source": [
    "**Print paragraphs starting with the dash of interest. Specify the dash of interest in the `dash_of_interest` variable.**"
   ]
  },
  {
   "cell_type": "code",
   "execution_count": null,
   "id": "d82e22ea",
   "metadata": {},
   "outputs": [],
   "source": [
    "dash_of_interest = em_dash\n",
    "print_paragraphs_by_regex(text, f'^{dash_of_interest}.*')"
   ]
  },
  {
   "cell_type": "markdown",
   "id": "4de9ada5",
   "metadata": {},
   "source": [
    "**Replace dash for the dialogue paragraphs to the appropriate one.**\n",
    "\n",
    "* **`old_dash` — dash symbol to be replaced;**\n",
    "* **`new_dash` — new dash symbol of interest.**"
   ]
  },
  {
   "cell_type": "code",
   "execution_count": null,
   "id": "15bf284f",
   "metadata": {},
   "outputs": [],
   "source": [
    "old_dash = en_dash\n",
    "new_dash = em_dash\n",
    "\n",
    "text = replace_by_regex(text, f'(^|\\n)+{old_dash}.?', old_dash, new_dash)\n",
    "\n",
    "print(f'Paragraphs starting with the dash of interest ⟨{new_dash}⟩:')\n",
    "print(search_paragraphs_by_regex(text, f'^{new_dash}.*'))"
   ]
  },
  {
   "cell_type": "markdown",
   "id": "e146b65f",
   "metadata": {},
   "source": [
    "**Print paragraphs with the new dashes.**"
   ]
  },
  {
   "cell_type": "code",
   "execution_count": null,
   "id": "0cd7568c",
   "metadata": {},
   "outputs": [],
   "source": [
    "dash_of_interest = em_dash\n",
    "print_paragraphs_by_regex(text, f'^{dash_of_interest}.*')"
   ]
  },
  {
   "cell_type": "markdown",
   "id": "5be90252",
   "metadata": {},
   "source": [
    "**Find all number intervals with dahses.**"
   ]
  },
  {
   "cell_type": "code",
   "execution_count": null,
   "id": "3459cf7d",
   "metadata": {},
   "outputs": [],
   "source": [
    "print(f'Number intervals with hyphen ⟨{hyphen}⟩:')\n",
    "hyphen_intervals = get_number_intervals_by_dash(text, hyphen)\n",
    "print(hyphen_intervals)\n",
    "\n",
    "print(f'Number intervals with en dash ⟨{en_dash}⟩:')\n",
    "en_dash_intervals = get_number_intervals_by_dash(text, en_dash)\n",
    "print(en_dash_intervals)\n",
    "\n",
    "print(f'Number intervals with em dash ⟨{em_dash}⟩:')\n",
    "em_dash_intervals = get_number_intervals_by_dash(text, em_dash)\n",
    "print(em_dash_intervals)"
   ]
  },
  {
   "cell_type": "markdown",
   "id": "a749b216",
   "metadata": {},
   "source": [
    "**Replace all number intervals with hyphen and em dash to intervals with en dash.**"
   ]
  },
  {
   "cell_type": "code",
   "execution_count": null,
   "id": "928603d3",
   "metadata": {},
   "outputs": [],
   "source": [
    "text = replace_by_regex(text, f'\\d+ ?{hyphen} ?\\d+', hyphen, en_dash)"
   ]
  },
  {
   "cell_type": "code",
   "execution_count": null,
   "id": "b1064661",
   "metadata": {},
   "outputs": [],
   "source": [
    "text = replace_by_regex(text, f'\\d+ ?{hyphen} ?\\d+', em_dash, en_dash)"
   ]
  },
  {
   "cell_type": "markdown",
   "id": "252a8e06",
   "metadata": {},
   "source": [
    "**Remove space characters in the number intervals. Example: `123 – 456` → `123–456`.**"
   ]
  },
  {
   "cell_type": "code",
   "execution_count": null,
   "id": "51b41eac",
   "metadata": {},
   "outputs": [],
   "source": [
    "text = replace_by_regex(text, f'\\d+ {en_dash} \\d+', ' ', '')"
   ]
  },
  {
   "cell_type": "markdown",
   "id": "eaff3575",
   "metadata": {},
   "source": [
    "**Check all number intervals with dahses.**"
   ]
  },
  {
   "cell_type": "code",
   "execution_count": null,
   "id": "e2509cde",
   "metadata": {},
   "outputs": [],
   "source": [
    "print(f'Number intervals with hyphen ⟨{hyphen}⟩:')\n",
    "hyphen_intervals = get_number_intervals_by_dash(text, hyphen)\n",
    "print(hyphen_intervals)\n",
    "\n",
    "print(f'Number intervals with en dash ⟨{en_dash}⟩:')\n",
    "en_dash_intervals = get_number_intervals_by_dash(text, en_dash)\n",
    "print(en_dash_intervals)\n",
    "\n",
    "print(f'Number intervals with em dash ⟨{em_dash}⟩:')\n",
    "em_dash_intervals = get_number_intervals_by_dash(text, em_dash)\n",
    "print(em_dash_intervals)"
   ]
  },
  {
   "cell_type": "markdown",
   "id": "b61efcd9",
   "metadata": {},
   "source": [
    "**Find hyphens surrounded by spaces.**"
   ]
  },
  {
   "cell_type": "code",
   "execution_count": null,
   "id": "ba92df11",
   "metadata": {},
   "outputs": [],
   "source": [
    "set(re.findall(f'\\S+ {hyphen} [\\S]+', text))"
   ]
  },
  {
   "cell_type": "markdown",
   "id": "2ce69229",
   "metadata": {},
   "source": [
    "**Replace hyphens surrounded by spaces to em dashes. Repeat the previous step while new hyphens are found.**"
   ]
  },
  {
   "cell_type": "code",
   "execution_count": null,
   "id": "cebfb779",
   "metadata": {},
   "outputs": [],
   "source": [
    "text = replace_by_regex(text, f'\\S+ {hyphen} \\S+', hyphen, em_dash)"
   ]
  },
  {
   "cell_type": "markdown",
   "id": "d2e6f9f3",
   "metadata": {},
   "source": [
    "**Find en dashes surrounded by spaces.**"
   ]
  },
  {
   "cell_type": "code",
   "execution_count": null,
   "id": "ab99bd41",
   "metadata": {},
   "outputs": [],
   "source": [
    "set(re.findall(f'\\S+ {en_dash} \\S+', text))"
   ]
  },
  {
   "cell_type": "markdown",
   "id": "3751e640",
   "metadata": {},
   "source": [
    "**Replace en dashes surrounded by spaces to em dashes. Repeat the previous step while new en dashes are found.**"
   ]
  },
  {
   "cell_type": "code",
   "execution_count": null,
   "id": "d81260c4",
   "metadata": {},
   "outputs": [],
   "source": [
    "text = replace_by_regex(text, f'\\S+ {en_dash} \\S+', en_dash, em_dash)"
   ]
  },
  {
   "cell_type": "markdown",
   "id": "71ec9517",
   "metadata": {},
   "source": [
    "**Search for em dashes with spaces on one or both sides.**"
   ]
  },
  {
   "cell_type": "code",
   "execution_count": null,
   "id": "fbe0e774",
   "metadata": {},
   "outputs": [],
   "source": [
    "print(set(re.findall(f'\\S+{em_dash} | {em_dash}\\S+| {em_dash} ', text)))"
   ]
  },
  {
   "cell_type": "markdown",
   "id": "2da45f80",
   "metadata": {},
   "source": [
    "**Print paragraphs containing suspected mistakes.**"
   ]
  },
  {
   "cell_type": "code",
   "execution_count": null,
   "id": "543c1656",
   "metadata": {},
   "outputs": [],
   "source": [
    "query = ' -'\n",
    "print_paragraphs_by_query(text, query, case_matters=False)"
   ]
  },
  {
   "cell_type": "markdown",
   "id": "ff24119a",
   "metadata": {},
   "source": [
    "# <span id='characters-in-the-play'>Characters in the play</span>\n",
    "\n",
    "[Up](#up) | [Save text](#save-text)\n",
    "\n",
    "**Paragraphs with speaking characters start with their names. The names should be enclosed in `<b></b>` tags.**"
   ]
  },
  {
   "cell_type": "markdown",
   "id": "52a5ef21",
   "metadata": {},
   "source": [
    "**List all the characters of the play in the `characters` list variable.**"
   ]
  },
  {
   "cell_type": "code",
   "execution_count": null,
   "id": "f57fb62e",
   "metadata": {},
   "outputs": [],
   "source": [
    "characters = [\n",
    "    'Greg',\n",
    "    'Samp',\n",
    "    'Abr',\n",
    "    'Tyb',\n",
    "    'Ben',\n",
    "    'Mont',\n",
    "    'Prince',\n",
    "    'Romeo',\n",
    "    'Juliet',\n",
    "    'Friar L'\n",
    "]"
   ]
  },
  {
   "cell_type": "markdown",
   "id": "230d2b19",
   "metadata": {},
   "source": [
    "**Print all the dialogue paragraphs with their numbers. `dialogue_delimiter` specifies what punctuation mark separates characters’ names from their speeches. Use backslash `\\` before symbols reserved for regular expressions.**"
   ]
  },
  {
   "cell_type": "code",
   "execution_count": null,
   "id": "54279433",
   "metadata": {},
   "outputs": [],
   "source": [
    "dialogue_delimiter = '\\.'\n",
    "characters_regex = '|'.join(characters)\n",
    "characters_regex = f'^({characters_regex}){dialogue_delimiter}.*'\n",
    "print(f'Regular expression to search for dialogues:\\n{characters_regex}\\n')\n",
    "print_paragraphs_by_regex(text, characters_regex)"
   ]
  },
  {
   "cell_type": "markdown",
   "id": "850a0e3f",
   "metadata": {},
   "source": [
    "**Get dialogue paragraphs numbers. Change the `dialogue_paragraphs` variable if some of paragraphs do not suit.**"
   ]
  },
  {
   "cell_type": "code",
   "execution_count": null,
   "id": "bc7c4767",
   "metadata": {},
   "outputs": [],
   "source": [
    "print('Numbers of dialogue paragraphs:')\n",
    "dialogue_paragraphs = search_paragraphs_by_regex(text, characters_regex)\n",
    "print(dialogue_paragraphs)"
   ]
  },
  {
   "cell_type": "markdown",
   "id": "129b7b66",
   "metadata": {},
   "source": [
    "**Enclose characters’ names in `<b><\\b>` tags.**"
   ]
  },
  {
   "cell_type": "code",
   "execution_count": null,
   "id": "e4b06d92",
   "metadata": {},
   "outputs": [],
   "source": [
    "text = tag_characters(text, dialogue_paragraphs, characters, '.', tag='b')"
   ]
  },
  {
   "cell_type": "markdown",
   "id": "b870ea0f",
   "metadata": {},
   "source": [
    "**Merge speeches of characters with `<delimiter>` if this is poetry.**\n",
    "\n",
    "**NB! The `merge_speeches` function merges all the paragraphs not containing `<b>` and `<h1>` tags! These paragraphs may not be parts of speeches.**"
   ]
  },
  {
   "cell_type": "code",
   "execution_count": null,
   "id": "cb482094",
   "metadata": {},
   "outputs": [],
   "source": [
    "text = merge_speeches(text)\n",
    "print('Current statistics:')\n",
    "print(f'• {len(text)} symbols;')\n",
    "print('•', len(text.split('\\n')), 'paragraphs.')"
   ]
  },
  {
   "cell_type": "markdown",
   "id": "f6104c40",
   "metadata": {},
   "source": [
    "# <span id='dot-the-yo'>Dot the ⟨Ё⟩ letters in Russian</span>\n",
    "\n",
    "[Up](#up) | [Save text](#save-text)\n",
    "\n",
    "**Use Ёditor to dot the ⟨Ё⟩ letters in a Russian text. For more information about the instrument visit its [Github page](https://github.com/bilinguator/yoditor).**\n",
    "\n",
    "**For a start, specify the location of the `yoditor` directory with all Ёditor contents in the `yoditor_dir_path` variable. If it is located in the same directory as `redactor`, leave `yoditor_dir_path` equal `'..'`**"
   ]
  },
  {
   "cell_type": "code",
   "execution_count": null,
   "id": "4f8aaf18",
   "metadata": {},
   "outputs": [],
   "source": [
    "yoditor_dir_path = '..'\n",
    "project_dir = os.path.abspath(yoditor_dir_path)\n",
    "sys.path.insert(0, project_dir)\n",
    "import yoditor.yoditor as yoditor"
   ]
  },
  {
   "cell_type": "markdown",
   "id": "ed2a2961",
   "metadata": {},
   "source": [
    "**Dot the ⟨Ё⟩ letters in the words which always spelled with them.**"
   ]
  },
  {
   "cell_type": "code",
   "execution_count": null,
   "id": "dd44b62e",
   "metadata": {},
   "outputs": [],
   "source": [
    "text = yoditor.recover_yo_sure(text)"
   ]
  },
  {
   "cell_type": "markdown",
   "id": "d7576ca6",
   "metadata": {},
   "source": [
    "**Dot the ⟨Ё⟩ letters in the words which are ambiguous about its spelling. Do it in the interactive mode. For every word, the input field is shown. If the replacement is needed type the `ё` letter in the field, otherwise leave it empty. Press Enter to confirm your choise.**"
   ]
  },
  {
   "cell_type": "code",
   "execution_count": null,
   "id": "60ad3a27",
   "metadata": {},
   "outputs": [],
   "source": [
    "text = yoditor.recover_yo_unsure(text)"
   ]
  },
  {
   "cell_type": "markdown",
   "id": "acbcde05",
   "metadata": {},
   "source": [
    "**Find paragraphs with words of ambiguous spelling. If `query`’s case matters, specify it in the `case_matters` attribute of the `print_paragraphs_by_query` function.**"
   ]
  },
  {
   "cell_type": "code",
   "execution_count": null,
   "id": "d189a020",
   "metadata": {},
   "outputs": [],
   "source": [
    "query = 'вперёд'\n",
    "print_paragraphs_by_query(text, query, case_matters=False)"
   ]
  },
  {
   "cell_type": "markdown",
   "id": "757e8b07",
   "metadata": {},
   "source": [
    "# <span id='save-text'>Save text</span>\n",
    "\n",
    "[Up](#up)\n",
    "\n",
    "**Specify another file address in the `file_address` variable if needed.**"
   ]
  },
  {
   "cell_type": "code",
   "execution_count": null,
   "id": "15db8f42",
   "metadata": {},
   "outputs": [],
   "source": [
    "file_address = file_address\n",
    "file = open(file_address, 'w', encoding='utf-8')\n",
    "file.write(text)\n",
    "file.close()"
   ]
  }
 ],
 "metadata": {
  "kernelspec": {
   "display_name": "Python 3 (ipykernel)",
   "language": "python",
   "name": "python3"
  },
  "language_info": {
   "codemirror_mode": {
    "name": "ipython",
    "version": 3
   },
   "file_extension": ".py",
   "mimetype": "text/x-python",
   "name": "python",
   "nbconvert_exporter": "python",
   "pygments_lexer": "ipython3",
   "version": "3.10.13"
  }
 },
 "nbformat": 4,
 "nbformat_minor": 5
}
